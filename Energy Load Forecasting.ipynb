{
 "cells": [
  {
   "cell_type": "markdown",
   "id": "ec383c05",
   "metadata": {},
   "source": [
    "# Import Packages and Data"
   ]
  },
  {
   "cell_type": "code",
   "execution_count": 81,
   "id": "160e972e",
   "metadata": {},
   "outputs": [],
   "source": [
    "# Data manipulation\n",
    "import numpy as np\n",
    "import pandas as pd\n",
    "from datetime import datetime\n",
    "import calendar\n",
    "\n",
    "\n",
    "# Plots\n",
    "import matplotlib.pyplot as plt\n",
    "import seaborn as sns\n",
    "%matplotlib inline\n",
    "from statsmodels.graphics.tsaplots import plot_acf\n",
    "from statsmodels.graphics.tsaplots import plot_pacf\n",
    "plt.style.use('fast')\n",
    "\n",
    "# Modelado y Forecasting\n",
    "from sklearn.model_selection import train_test_split\n",
    "from sklearn.linear_model import Ridge\n",
    "from sklearn.metrics import mean_squared_error\n",
    "from lightgbm import LGBMRegressor\n",
    "from sklearn.pipeline import make_pipeline\n",
    "from sklearn.preprocessing import StandardScaler\n",
    "from sklearn.metrics import mean_absolute_error\n",
    "from skforecast.ForecasterAutoreg import ForecasterAutoreg\n",
    "from skforecast.ForecasterAutoregMultiOutput import ForecasterAutoregMultiOutput\n",
    "from skforecast.model_selection import grid_search_forecaster\n",
    "from skforecast.model_selection import backtesting_forecaster\n",
    "\n",
    "# Warnings configuration\n",
    "import warnings\n",
    "warnings.filterwarnings('ignore')"
   ]
  },
  {
   "cell_type": "code",
   "execution_count": 82,
   "id": "faaaa280",
   "metadata": {},
   "outputs": [],
   "source": [
    "# Import data\n",
    "path = '/Users/Lenovo\\OneDrive - Imperial College London/Spring 2022/Energy Analytics/Forecasting/Forecasting_Competition_InCampus-main'\n",
    "\n",
    "time_series = pd.read_excel(path + '/DatasetOnCampus1403.xlsx', 'Demand')\n",
    "temperature = pd.read_excel(path + '/DatasetOnCampus1403.xlsx', 'Temperature')\n",
    "sunshine = pd.read_excel(path + '/DatasetOnCampus1403.xlsx', 'Sunshine Duration')"
   ]
  },
  {
   "cell_type": "markdown",
   "id": "95e7e277",
   "metadata": {},
   "source": [
    "# Process Temperature Data"
   ]
  },
  {
   "cell_type": "code",
   "execution_count": 83,
   "id": "3392e85d",
   "metadata": {},
   "outputs": [
    {
     "data": {
      "text/html": [
       "<div>\n",
       "<style scoped>\n",
       "    .dataframe tbody tr th:only-of-type {\n",
       "        vertical-align: middle;\n",
       "    }\n",
       "\n",
       "    .dataframe tbody tr th {\n",
       "        vertical-align: top;\n",
       "    }\n",
       "\n",
       "    .dataframe thead th {\n",
       "        text-align: right;\n",
       "    }\n",
       "</style>\n",
       "<table border=\"1\" class=\"dataframe\">\n",
       "  <thead>\n",
       "    <tr style=\"text-align: right;\">\n",
       "      <th></th>\n",
       "      <th>Date</th>\n",
       "      <th>Avg_Temp</th>\n",
       "    </tr>\n",
       "  </thead>\n",
       "  <tbody>\n",
       "    <tr>\n",
       "      <th>0</th>\n",
       "      <td>2018-01-01</td>\n",
       "      <td>6.276670</td>\n",
       "    </tr>\n",
       "    <tr>\n",
       "      <th>1</th>\n",
       "      <td>2018-01-02</td>\n",
       "      <td>6.920143</td>\n",
       "    </tr>\n",
       "    <tr>\n",
       "      <th>2</th>\n",
       "      <td>2018-01-03</td>\n",
       "      <td>7.670420</td>\n",
       "    </tr>\n",
       "    <tr>\n",
       "      <th>3</th>\n",
       "      <td>2018-01-04</td>\n",
       "      <td>7.015282</td>\n",
       "    </tr>\n",
       "    <tr>\n",
       "      <th>4</th>\n",
       "      <td>2018-01-05</td>\n",
       "      <td>5.393059</td>\n",
       "    </tr>\n",
       "    <tr>\n",
       "      <th>...</th>\n",
       "      <td>...</td>\n",
       "      <td>...</td>\n",
       "    </tr>\n",
       "    <tr>\n",
       "      <th>1528</th>\n",
       "      <td>2022-03-09</td>\n",
       "      <td>8.960374</td>\n",
       "    </tr>\n",
       "    <tr>\n",
       "      <th>1529</th>\n",
       "      <td>2022-03-10</td>\n",
       "      <td>9.978013</td>\n",
       "    </tr>\n",
       "    <tr>\n",
       "      <th>1530</th>\n",
       "      <td>2022-03-11</td>\n",
       "      <td>9.443846</td>\n",
       "    </tr>\n",
       "    <tr>\n",
       "      <th>1531</th>\n",
       "      <td>2022-03-12</td>\n",
       "      <td>9.088429</td>\n",
       "    </tr>\n",
       "    <tr>\n",
       "      <th>1532</th>\n",
       "      <td>2022-03-13</td>\n",
       "      <td>8.881068</td>\n",
       "    </tr>\n",
       "  </tbody>\n",
       "</table>\n",
       "<p>1533 rows × 2 columns</p>\n",
       "</div>"
      ],
      "text/plain": [
       "           Date  Avg_Temp\n",
       "0    2018-01-01  6.276670\n",
       "1    2018-01-02  6.920143\n",
       "2    2018-01-03  7.670420\n",
       "3    2018-01-04  7.015282\n",
       "4    2018-01-05  5.393059\n",
       "...         ...       ...\n",
       "1528 2022-03-09  8.960374\n",
       "1529 2022-03-10  9.978013\n",
       "1530 2022-03-11  9.443846\n",
       "1531 2022-03-12  9.088429\n",
       "1532 2022-03-13  8.881068\n",
       "\n",
       "[1533 rows x 2 columns]"
      ]
     },
     "execution_count": 83,
     "metadata": {},
     "output_type": "execute_result"
    }
   ],
   "source": [
    "temperature = temperature.rename(columns={'Unnamed: 0' : 'Date'})\n",
    "\n",
    "# Select only the past temperature recordings (not forecasts)\n",
    "temperature_past = temperature.iloc[:-8,]\n",
    "\n",
    "# Group by the mean of every 4 temperature values since there are 4 weather forecasts per day\n",
    "temperature_mean = temperature_past.groupby(np.arange(len(temperature_past))//4).mean()\n",
    "\n",
    "# Restore date column\n",
    "temperature_mean['Date'] = pd.date_range(start='1/1/2018', periods=len(temperature_mean), freq='1D')\n",
    "\n",
    "# Take the average temperature across the 3 cities in a day\n",
    "temperature_mean['Avg_Temp'] = temperature_mean[['Bristol Temperature [Celsius]', 'London Temperature [Celsius]', 'Leeds Temperature [Celsius]']].mean(axis=1)\n",
    "\n",
    "temperature_final = temperature_mean[['Date','Avg_Temp']]\n",
    "temperature_final"
   ]
  },
  {
   "cell_type": "markdown",
   "id": "a65b2bde",
   "metadata": {},
   "source": [
    "Research shows that most people in the UK turn their heaters on when the temperature drops below 14 degrees. We will compute the average temperature for each month of the year."
   ]
  },
  {
   "cell_type": "code",
   "execution_count": 84,
   "id": "7ff4f26e",
   "metadata": {},
   "outputs": [
    {
     "name": "stderr",
     "output_type": "stream",
     "text": [
      "matplotlib.category INFO  Using categorical units to plot a list of strings that are all parsable as floats or dates. If these strings should be plotted as numbers, cast to the appropriate data type before plotting.\n",
      "matplotlib.category INFO  Using categorical units to plot a list of strings that are all parsable as floats or dates. If these strings should be plotted as numbers, cast to the appropriate data type before plotting.\n"
     ]
    },
    {
     "data": {
      "text/plain": [
       "<BarContainer object of 12 artists>"
      ]
     },
     "execution_count": 84,
     "metadata": {},
     "output_type": "execute_result"
    },
    {
     "data": {
      "image/png": "[encoded data removed]",
      "text/plain": [
       "<Figure size 1008x432 with 1 Axes>"
      ]
     },
     "metadata": {
      "needs_background": "light"
     },
     "output_type": "display_data"
    }
   ],
   "source": [
    "# Check the temperature trends across months of the year\n",
    "temperature['month'] = pd.DatetimeIndex(temperature['Date']).month_name()\n",
    "temperature_bymonth = temperature.groupby('month').mean().reset_index()\n",
    "temperature_bymonth['Avg_Temp'] = temperature_bymonth[['Bristol Temperature [Celsius]', 'London Temperature [Celsius]', 'Leeds Temperature [Celsius]']].mean(axis=1)\n",
    "temperature_by_month = temperature_bymonth[['month', 'Avg_Temp']]\n",
    "\n",
    "# Sort the rows by month\n",
    "months = [\"January\", \"February\", \"March\", \"April\", \"May\", \"June\", \n",
    "          \"July\", \"August\", \"September\", \"October\", \"November\", \"December\"]\n",
    "temperature_by_month['month'] = pd.Categorical(temperature_by_month['month'], categories=months, ordered=True)\n",
    "temperature_by_month = temperature_by_month.sort_values('month')\n",
    "\n",
    "temperature_by_month\n",
    "figure_name = plt.figure(figsize=(14, 6))\n",
    "plt.bar(x=temperature_by_month['month'], height=temperature_by_month['Avg_Temp'], color='C0')"
   ]
  },
  {
   "cell_type": "markdown",
   "id": "41327e7b",
   "metadata": {},
   "source": [
    "# Process Sunshine Table"
   ]
  },
  {
   "cell_type": "code",
   "execution_count": 85,
   "id": "20f4495a",
   "metadata": {},
   "outputs": [
    {
     "data": {
      "text/html": [
       "<div>\n",
       "<style scoped>\n",
       "    .dataframe tbody tr th:only-of-type {\n",
       "        vertical-align: middle;\n",
       "    }\n",
       "\n",
       "    .dataframe tbody tr th {\n",
       "        vertical-align: top;\n",
       "    }\n",
       "\n",
       "    .dataframe thead th {\n",
       "        text-align: right;\n",
       "    }\n",
       "</style>\n",
       "<table border=\"1\" class=\"dataframe\">\n",
       "  <thead>\n",
       "    <tr style=\"text-align: right;\">\n",
       "      <th></th>\n",
       "      <th>Date</th>\n",
       "      <th>Avg_Sunlight</th>\n",
       "    </tr>\n",
       "  </thead>\n",
       "  <tbody>\n",
       "    <tr>\n",
       "      <th>0</th>\n",
       "      <td>2018-01-01</td>\n",
       "      <td>271.262408</td>\n",
       "    </tr>\n",
       "    <tr>\n",
       "      <th>1</th>\n",
       "      <td>2018-01-02</td>\n",
       "      <td>34.192317</td>\n",
       "    </tr>\n",
       "    <tr>\n",
       "      <th>2</th>\n",
       "      <td>2018-01-03</td>\n",
       "      <td>198.249705</td>\n",
       "    </tr>\n",
       "    <tr>\n",
       "      <th>3</th>\n",
       "      <td>2018-01-04</td>\n",
       "      <td>71.796514</td>\n",
       "    </tr>\n",
       "    <tr>\n",
       "      <th>4</th>\n",
       "      <td>2018-01-05</td>\n",
       "      <td>165.103902</td>\n",
       "    </tr>\n",
       "    <tr>\n",
       "      <th>...</th>\n",
       "      <td>...</td>\n",
       "      <td>...</td>\n",
       "    </tr>\n",
       "    <tr>\n",
       "      <th>1528</th>\n",
       "      <td>2022-03-09</td>\n",
       "      <td>253.382976</td>\n",
       "    </tr>\n",
       "    <tr>\n",
       "      <th>1529</th>\n",
       "      <td>2022-03-10</td>\n",
       "      <td>297.755320</td>\n",
       "    </tr>\n",
       "    <tr>\n",
       "      <th>1530</th>\n",
       "      <td>2022-03-11</td>\n",
       "      <td>110.515956</td>\n",
       "    </tr>\n",
       "    <tr>\n",
       "      <th>1531</th>\n",
       "      <td>2022-03-12</td>\n",
       "      <td>222.732799</td>\n",
       "    </tr>\n",
       "    <tr>\n",
       "      <th>1532</th>\n",
       "      <td>2022-03-13</td>\n",
       "      <td>139.180497</td>\n",
       "    </tr>\n",
       "  </tbody>\n",
       "</table>\n",
       "<p>1533 rows × 2 columns</p>\n",
       "</div>"
      ],
      "text/plain": [
       "           Date  Avg_Sunlight\n",
       "0    2018-01-01    271.262408\n",
       "1    2018-01-02     34.192317\n",
       "2    2018-01-03    198.249705\n",
       "3    2018-01-04     71.796514\n",
       "4    2018-01-05    165.103902\n",
       "...         ...           ...\n",
       "1528 2022-03-09    253.382976\n",
       "1529 2022-03-10    297.755320\n",
       "1530 2022-03-11    110.515956\n",
       "1531 2022-03-12    222.732799\n",
       "1532 2022-03-13    139.180497\n",
       "\n",
       "[1533 rows x 2 columns]"
      ]
     },
     "execution_count": 85,
     "metadata": {},
     "output_type": "execute_result"
    }
   ],
   "source": [
    "sunshine = sunshine.rename(columns={'Unnamed: 0' : 'Date'})\n",
    "sunshine['Avg_Sunlight'] = sunshine[['Bristol Sunshine [minutes]', 'London Sunshine [minutes]', 'Leeds Sunshine [minutes]']].mean(axis=1)\n",
    "sunshine_final = sunshine[['Date','Avg_Sunlight']].iloc[:-2]\n",
    "sunshine_final"
   ]
  },
  {
   "cell_type": "markdown",
   "id": "8c4c9727",
   "metadata": {},
   "source": [
    "# Merge Past Data and Add Parameters"
   ]
  },
  {
   "cell_type": "markdown",
   "id": "52febe54",
   "metadata": {},
   "source": [
    "**Proposed Method:**  \n",
    "1) *Heating effect*: we assume that most of the change in electricity demand that is associated with temperature is due to the heating during  the cold months of the year. According to research, most people in the UK turn on their heating when the temperature drops below 14 degress Celcius. Therefore, we create a dummy variable **HEATERS_ON** which is equal to 1 during the months where the average temperature is below 14 and 0 otherwise.  \n",
    "Additionally, we will create an interaction between the average temperature and the **HEATERS_ON** variable to explain the varying response of electricity demand to a change in temperature and call it **Avg_Temp*HEATERS_ON**  \n",
    "\n",
    "2) *Weekday effect*: electricity demand is expected to drop on weekends. Therefore, we create a dummy variable **WEEKDAY** which is equal to 1 when it is a weekday and 0 otherwise."
   ]
  },
  {
   "cell_type": "code",
   "execution_count": 86,
   "id": "24fb0c03",
   "metadata": {},
   "outputs": [
    {
     "name": "stdout",
     "output_type": "stream",
     "text": [
      "(1533, 2) (1533, 2) (1533, 3)\n",
      "(1533, 2) (1533, 3) (1533, 4)\n"
     ]
    },
    {
     "data": {
      "text/html": [
       "<div>\n",
       "<style scoped>\n",
       "    .dataframe tbody tr th:only-of-type {\n",
       "        vertical-align: middle;\n",
       "    }\n",
       "\n",
       "    .dataframe tbody tr th {\n",
       "        vertical-align: top;\n",
       "    }\n",
       "\n",
       "    .dataframe thead th {\n",
       "        text-align: right;\n",
       "    }\n",
       "</style>\n",
       "<table border=\"1\" class=\"dataframe\">\n",
       "  <thead>\n",
       "    <tr style=\"text-align: right;\">\n",
       "      <th></th>\n",
       "      <th>log_demand</th>\n",
       "      <th>Avg_Temp</th>\n",
       "      <th>Avg_Sunlight</th>\n",
       "      <th>WEEKDAY</th>\n",
       "      <th>HEATERS_ON</th>\n",
       "      <th>HEATERS_ON*Avg_Temp</th>\n",
       "    </tr>\n",
       "    <tr>\n",
       "      <th>SETTLEMENT_DATE</th>\n",
       "      <th></th>\n",
       "      <th></th>\n",
       "      <th></th>\n",
       "      <th></th>\n",
       "      <th></th>\n",
       "      <th></th>\n",
       "    </tr>\n",
       "  </thead>\n",
       "  <tbody>\n",
       "    <tr>\n",
       "      <th>2018-01-01</th>\n",
       "      <td>10.182113</td>\n",
       "      <td>6.276670</td>\n",
       "      <td>271.262408</td>\n",
       "      <td>1</td>\n",
       "      <td>1</td>\n",
       "      <td>6.276670</td>\n",
       "    </tr>\n",
       "    <tr>\n",
       "      <th>2018-01-02</th>\n",
       "      <td>10.378343</td>\n",
       "      <td>6.920143</td>\n",
       "      <td>34.192317</td>\n",
       "      <td>1</td>\n",
       "      <td>1</td>\n",
       "      <td>6.920143</td>\n",
       "    </tr>\n",
       "    <tr>\n",
       "      <th>2018-01-03</th>\n",
       "      <td>10.358237</td>\n",
       "      <td>7.670420</td>\n",
       "      <td>198.249705</td>\n",
       "      <td>1</td>\n",
       "      <td>1</td>\n",
       "      <td>7.670420</td>\n",
       "    </tr>\n",
       "    <tr>\n",
       "      <th>2018-01-04</th>\n",
       "      <td>10.401004</td>\n",
       "      <td>7.015282</td>\n",
       "      <td>71.796514</td>\n",
       "      <td>1</td>\n",
       "      <td>1</td>\n",
       "      <td>7.015282</td>\n",
       "    </tr>\n",
       "    <tr>\n",
       "      <th>2018-01-05</th>\n",
       "      <td>10.421214</td>\n",
       "      <td>5.393059</td>\n",
       "      <td>165.103902</td>\n",
       "      <td>1</td>\n",
       "      <td>1</td>\n",
       "      <td>5.393059</td>\n",
       "    </tr>\n",
       "    <tr>\n",
       "      <th>...</th>\n",
       "      <td>...</td>\n",
       "      <td>...</td>\n",
       "      <td>...</td>\n",
       "      <td>...</td>\n",
       "      <td>...</td>\n",
       "      <td>...</td>\n",
       "    </tr>\n",
       "    <tr>\n",
       "      <th>2022-03-09</th>\n",
       "      <td>10.225633</td>\n",
       "      <td>8.960374</td>\n",
       "      <td>253.382976</td>\n",
       "      <td>1</td>\n",
       "      <td>1</td>\n",
       "      <td>8.960374</td>\n",
       "    </tr>\n",
       "    <tr>\n",
       "      <th>2022-03-10</th>\n",
       "      <td>10.216360</td>\n",
       "      <td>9.978013</td>\n",
       "      <td>297.755320</td>\n",
       "      <td>1</td>\n",
       "      <td>1</td>\n",
       "      <td>9.978013</td>\n",
       "    </tr>\n",
       "    <tr>\n",
       "      <th>2022-03-11</th>\n",
       "      <td>10.211947</td>\n",
       "      <td>9.443846</td>\n",
       "      <td>110.515956</td>\n",
       "      <td>1</td>\n",
       "      <td>1</td>\n",
       "      <td>9.443846</td>\n",
       "    </tr>\n",
       "    <tr>\n",
       "      <th>2022-03-12</th>\n",
       "      <td>10.066081</td>\n",
       "      <td>9.088429</td>\n",
       "      <td>222.732799</td>\n",
       "      <td>0</td>\n",
       "      <td>1</td>\n",
       "      <td>9.088429</td>\n",
       "    </tr>\n",
       "    <tr>\n",
       "      <th>2022-03-13</th>\n",
       "      <td>10.087157</td>\n",
       "      <td>8.881068</td>\n",
       "      <td>139.180497</td>\n",
       "      <td>0</td>\n",
       "      <td>1</td>\n",
       "      <td>8.881068</td>\n",
       "    </tr>\n",
       "  </tbody>\n",
       "</table>\n",
       "<p>1533 rows × 6 columns</p>\n",
       "</div>"
      ],
      "text/plain": [
       "                 log_demand  Avg_Temp  Avg_Sunlight  WEEKDAY  HEATERS_ON  \\\n",
       "SETTLEMENT_DATE                                                            \n",
       "2018-01-01        10.182113  6.276670    271.262408        1           1   \n",
       "2018-01-02        10.378343  6.920143     34.192317        1           1   \n",
       "2018-01-03        10.358237  7.670420    198.249705        1           1   \n",
       "2018-01-04        10.401004  7.015282     71.796514        1           1   \n",
       "2018-01-05        10.421214  5.393059    165.103902        1           1   \n",
       "...                     ...       ...           ...      ...         ...   \n",
       "2022-03-09        10.225633  8.960374    253.382976        1           1   \n",
       "2022-03-10        10.216360  9.978013    297.755320        1           1   \n",
       "2022-03-11        10.211947  9.443846    110.515956        1           1   \n",
       "2022-03-12        10.066081  9.088429    222.732799        0           1   \n",
       "2022-03-13        10.087157  8.881068    139.180497        0           1   \n",
       "\n",
       "                 HEATERS_ON*Avg_Temp  \n",
       "SETTLEMENT_DATE                       \n",
       "2018-01-01                  6.276670  \n",
       "2018-01-02                  6.920143  \n",
       "2018-01-03                  7.670420  \n",
       "2018-01-04                  7.015282  \n",
       "2018-01-05                  5.393059  \n",
       "...                              ...  \n",
       "2022-03-09                  8.960374  \n",
       "2022-03-10                  9.978013  \n",
       "2022-03-11                  9.443846  \n",
       "2022-03-12                  9.088429  \n",
       "2022-03-13                  8.881068  \n",
       "\n",
       "[1533 rows x 6 columns]"
      ]
     },
     "execution_count": 86,
     "metadata": {},
     "output_type": "execute_result"
    }
   ],
   "source": [
    "join1 = time_series.merge(temperature_final, how = 'inner', left_on = 'SETTLEMENT_DATE', right_on = 'Date').drop('Date', axis=1)\n",
    "data_final = join1.merge(sunshine_final, how = 'inner', left_on = 'SETTLEMENT_DATE', right_on = 'Date').drop('Date', axis=1)\n",
    "\n",
    "# Check the shape of the data\n",
    "print(time_series.shape, temperature_final.shape, join1.shape)\n",
    "print(sunshine_final.shape, join1.shape, data_final.shape)\n",
    "\n",
    "\n",
    "# Weekend or Weekday\n",
    "data_final['Weekday'] = data_final['SETTLEMENT_DATE'].dt.dayofweek\n",
    "\n",
    "weekday = []\n",
    "for day in data_final['Weekday'].values.tolist():\n",
    "    if day in range(0,5):\n",
    "        weekday.append(1)\n",
    "    else:\n",
    "        weekday.append(0)\n",
    "data_final['WEEKDAY'] = weekday \n",
    "\n",
    "data_final = data_final.drop('Weekday', axis = 1)\n",
    "\n",
    "\n",
    "# Cold Season?\n",
    "heaters_on = []\n",
    "cold = ['October', 'November', 'December', 'January', 'February', 'March']\n",
    "\n",
    "for date in data_final['SETTLEMENT_DATE']:\n",
    "    if date.month_name() in cold:\n",
    "        heaters_on.append(1)\n",
    "    else:\n",
    "        heaters_on.append(0)\n",
    "\n",
    "data_final['HEATERS_ON'] = heaters_on\n",
    "data_final = data_final.set_index('SETTLEMENT_DATE').rename(columns={'ENGLAND_WALES_DEMAND [MW]':'Demand [MW]'})\n",
    "data_final['log_demand'] = np.log(data_final['Demand [MW]'])\n",
    "data_final['HEATERS_ON*Avg_Temp'] = data_final['Avg_Temp'] * data_final['HEATERS_ON']\n",
    "data_final = data_final[[ 'log_demand', 'Avg_Temp', 'Avg_Sunlight', 'WEEKDAY', 'HEATERS_ON', 'HEATERS_ON*Avg_Temp']]\n",
    "\n",
    "# Take log of Demand\n",
    "data_final"
   ]
  },
  {
   "cell_type": "markdown",
   "id": "18be741a",
   "metadata": {},
   "source": [
    "# New Data and Exogenous Variables"
   ]
  },
  {
   "cell_type": "code",
   "execution_count": 87,
   "id": "39680abb",
   "metadata": {},
   "outputs": [
    {
     "data": {
      "text/html": [
       "<div>\n",
       "<style scoped>\n",
       "    .dataframe tbody tr th:only-of-type {\n",
       "        vertical-align: middle;\n",
       "    }\n",
       "\n",
       "    .dataframe tbody tr th {\n",
       "        vertical-align: top;\n",
       "    }\n",
       "\n",
       "    .dataframe thead th {\n",
       "        text-align: right;\n",
       "    }\n",
       "</style>\n",
       "<table border=\"1\" class=\"dataframe\">\n",
       "  <thead>\n",
       "    <tr style=\"text-align: right;\">\n",
       "      <th></th>\n",
       "      <th>Date</th>\n",
       "      <th>Avg_Temp</th>\n",
       "      <th>Avg_Sunlight</th>\n",
       "      <th>WEEKDAY</th>\n",
       "      <th>HEATERS_ON</th>\n",
       "      <th>HEATERS_ON*Avg_Temp</th>\n",
       "    </tr>\n",
       "  </thead>\n",
       "  <tbody>\n",
       "    <tr>\n",
       "      <th>1533</th>\n",
       "      <td>2022-03-14</td>\n",
       "      <td>7.674679</td>\n",
       "      <td>581.110695</td>\n",
       "      <td>1</td>\n",
       "      <td>1</td>\n",
       "      <td>7.674679</td>\n",
       "    </tr>\n",
       "    <tr>\n",
       "      <th>1534</th>\n",
       "      <td>2022-03-15</td>\n",
       "      <td>9.250000</td>\n",
       "      <td>60.000000</td>\n",
       "      <td>1</td>\n",
       "      <td>1</td>\n",
       "      <td>9.250000</td>\n",
       "    </tr>\n",
       "  </tbody>\n",
       "</table>\n",
       "</div>"
      ],
      "text/plain": [
       "           Date  Avg_Temp  Avg_Sunlight  WEEKDAY  HEATERS_ON  \\\n",
       "1533 2022-03-14  7.674679    581.110695        1           1   \n",
       "1534 2022-03-15  9.250000     60.000000        1           1   \n",
       "\n",
       "      HEATERS_ON*Avg_Temp  \n",
       "1533             7.674679  \n",
       "1534             9.250000  "
      ]
     },
     "execution_count": 87,
     "metadata": {},
     "output_type": "execute_result"
    }
   ],
   "source": [
    "# Select only the forecasted sunshine and temperature values values \n",
    "sunshine_forecast = sunshine.iloc[-2:]\n",
    "temperature_forecast = temperature.iloc[-8:]\n",
    "\n",
    "# Group by every 4 temperature forecast values\n",
    "temperature_forecast_m = temperature_forecast.groupby(np.arange(len(temperature_forecast))//4).mean()\n",
    "\n",
    "# Restore the date values and add columns\n",
    "temperature_forecast_m.index = sunshine_forecast.index\n",
    "exogenous_predict = temperature_forecast_m\n",
    "exogenous_predict['Avg_Sunlight'] = sunshine_forecast['Avg_Sunlight']\n",
    "exogenous_predict['Date'] = sunshine_forecast['Date']\n",
    "exogenous_predict['Avg_Temp'] = exogenous_predict[['Bristol Temperature [Celsius]', 'London Temperature [Celsius]', 'Leeds Temperature [Celsius]']].mean(axis=1)\n",
    "\n",
    "\n",
    "# Since our analysis is in \n",
    "exogenous_predict['HEATERS_ON'] = 1\n",
    "\n",
    "# Weekend or Weekday\n",
    "exogenous_predict['Weekday'] = exogenous_predict['Date'].dt.dayofweek\n",
    "\n",
    "weekday1 = []\n",
    "for day in exogenous_predict['Weekday'].values.tolist():\n",
    "    if day in range(0,5):\n",
    "        weekday1.append(1)\n",
    "    else:\n",
    "        weekday1.append(0)\n",
    "        \n",
    "exogenous_predict['WEEKDAY'] = weekday1 \n",
    "\n",
    "exogenous_predict = exogenous_predict.drop('Weekday', axis = 1)\n",
    "\n",
    "exogenous_predict['HEATERS_ON*Avg_Temp'] = exogenous_predict['Avg_Temp'] * exogenous_predict['HEATERS_ON']\n",
    "\n",
    "exogenous_predict = exogenous_predict[['Date','Avg_Temp', 'Avg_Sunlight', 'WEEKDAY', 'HEATERS_ON', 'HEATERS_ON*Avg_Temp']]\n",
    "\n",
    "\n",
    "exogenous_predict"
   ]
  },
  {
   "cell_type": "markdown",
   "id": "e807e950",
   "metadata": {},
   "source": [
    "# Split Data into Training/Test"
   ]
  },
  {
   "cell_type": "code",
   "execution_count": 88,
   "id": "27b8b0ad",
   "metadata": {},
   "outputs": [
    {
     "name": "stdout",
     "output_type": "stream",
     "text": [
      "Train dates      : 2018-01-01 00:00:00 --- 2022-02-08 00:00:00\n",
      "Test dates       : 2022-02-09 00:00:00 --- 2022-03-13 00:00:00\n"
     ]
    }
   ],
   "source": [
    "data_train = data_final.iloc[0:1500,:]\n",
    "data_test = data_final.iloc[1500:,:]\n",
    "\n",
    "print(f\"Train dates      : {data_train.index.min()} --- {data_train.index.max()}\")\n",
    "print(f\"Test dates       : {data_test.index.min()} --- {data_test.index.max()}\")"
   ]
  },
  {
   "cell_type": "markdown",
   "id": "1afdca5d",
   "metadata": {},
   "source": [
    "# Explore Seasonality"
   ]
  },
  {
   "cell_type": "code",
   "execution_count": 89,
   "id": "86efa088",
   "metadata": {},
   "outputs": [
    {
     "data": {
      "text/plain": [
       "<matplotlib.legend.Legend at 0x161a16a03a0>"
      ]
     },
     "execution_count": 89,
     "metadata": {},
     "output_type": "execute_result"
    },
    {
     "data": {
      "image/png": "[encoded data removed]",
      "text/plain": [
       "<Figure size 864x288 with 1 Axes>"
      ]
     },
     "metadata": {
      "needs_background": "light"
     },
     "output_type": "display_data"
    }
   ],
   "source": [
    "# Time series plot\n",
    "fig, ax = plt.subplots(figsize=(12, 4))\n",
    "data_train.log_demand.plot(ax=ax, label='train', linewidth=1)\n",
    "data_test.log_demand.plot(ax=ax, label='test', linewidth=1)\n",
    "ax.set_title('Electricity demand')\n",
    "ax.legend()"
   ]
  },
  {
   "cell_type": "code",
   "execution_count": 90,
   "id": "87d96672",
   "metadata": {},
   "outputs": [
    {
     "data": {
      "image/png": "[encoded data removed]",
      "text/plain": [
       "<Figure size 504x252 with 1 Axes>"
      ]
     },
     "metadata": {
      "needs_background": "light"
     },
     "output_type": "display_data"
    }
   ],
   "source": [
    "# Boxplot for annual seasonality\n",
    "# ==============================================================================\n",
    "fig, ax = plt.subplots(figsize=(7, 3.5))\n",
    "data_final['month'] = data_final.index.month\n",
    "data_final.boxplot(column='log_demand', by='month', ax=ax,)\n",
    "data_final.groupby('month')['log_demand'].median().plot(style='o-', linewidth=0.8, ax=ax)\n",
    "ax.set_ylabel('Demand')\n",
    "ax.set_title('Demand distribution by month')\n",
    "fig.suptitle('');"
   ]
  },
  {
   "cell_type": "markdown",
   "id": "b4147773",
   "metadata": {},
   "source": [
    "# Autocorrelation Plot"
   ]
  },
  {
   "cell_type": "code",
   "execution_count": 91,
   "id": "2f241707",
   "metadata": {},
   "outputs": [
    {
     "data": {
      "image/png": "[encoded data removed]",
      "text/plain": [
       "<Figure size 504x216 with 1 Axes>"
      ]
     },
     "metadata": {
      "needs_background": "light"
     },
     "output_type": "display_data"
    }
   ],
   "source": [
    "# Autocorrelation plot\n",
    "# ==============================================================================\n",
    "fig, ax1 = plt.subplots(figsize=(7, 3))\n",
    "ax1.set_facecolor(\"white\")\n",
    "ax1.grid(False)\n",
    "plot_acf(data_final.log_demand, ax=ax1, lags=80)\n",
    "plt.show()"
   ]
  },
  {
   "cell_type": "code",
   "execution_count": 92,
   "id": "1608d427",
   "metadata": {},
   "outputs": [
    {
     "data": {
      "image/png": "[encoded data removed]",
      "text/plain": [
       "<Figure size 504x216 with 1 Axes>"
      ]
     },
     "metadata": {
      "needs_background": "light"
     },
     "output_type": "display_data"
    }
   ],
   "source": [
    "# Partial autocorrelation plot\n",
    "# ==============================================================================\n",
    "fig, ax2 = plt.subplots(figsize=(7, 3))\n",
    "ax2.set_facecolor(\"white\")\n",
    "ax2.grid(False)\n",
    "plot_pacf(data_final.log_demand, ax=ax2, lags=60)\n",
    "plt.show()"
   ]
  },
  {
   "cell_type": "code",
   "execution_count": 93,
   "id": "22d83a15",
   "metadata": {},
   "outputs": [
    {
     "data": {
      "text/plain": [
       "Text(0.5, 0.98, 'Horizontally stacked subplots')"
      ]
     },
     "execution_count": 93,
     "metadata": {},
     "output_type": "execute_result"
    },
    {
     "data": {
      "image/png": "[encoded data removed]",
      "text/plain": [
       "<Figure size 432x288 with 2 Axes>"
      ]
     },
     "metadata": {
      "needs_background": "light"
     },
     "output_type": "display_data"
    }
   ],
   "source": [
    "fig, (ax1, ax2) = plt.subplots(1, 2)\n",
    "fig.suptitle('Horizontally stacked subplots')"
   ]
  },
  {
   "cell_type": "markdown",
   "id": "d2d238b8",
   "metadata": {},
   "source": [
    "The autocorrelation plot shows that there is a strong and significant positive correlation between the daily demand for electricity and its previous values. This indicates that an autoregressive model would be useful."
   ]
  },
  {
   "cell_type": "markdown",
   "id": "a785dacc",
   "metadata": {},
   "source": [
    "# Initial Autoregression Model "
   ]
  },
  {
   "cell_type": "markdown",
   "id": "a414a3e8",
   "metadata": {},
   "source": [
    "Start with lags=7 (will tune later)"
   ]
  },
  {
   "cell_type": "code",
   "execution_count": 94,
   "id": "c78d4f5c",
   "metadata": {},
   "outputs": [
    {
     "data": {
      "text/plain": [
       "================= \n",
       "ForecasterAutoreg \n",
       "================= \n",
       "Regressor: Pipeline(steps=[('standardscaler', StandardScaler()), ('ridge', Ridge())]) \n",
       "Lags: [1 2 3 4 5 6 7] \n",
       "Window size: 7 \n",
       "Included exogenous: True \n",
       "Type of exogenous variable: <class 'pandas.core.frame.DataFrame'> \n",
       "Exogenous variables names: ['WEEKDAY', 'Avg_Temp', 'Avg_Sunlight', 'HEATERS_ON', 'HEATERS_ON*Avg_Temp'] \n",
       "Training range: [0, 1499] \n",
       "Training index type: RangeIndex \n",
       "Training index frequency: 1 \n",
       "Regressor parameters: {'standardscaler__copy': True, 'standardscaler__with_mean': True, 'standardscaler__with_std': True, 'ridge__alpha': 1.0, 'ridge__copy_X': True, 'ridge__fit_intercept': True, 'ridge__max_iter': None, 'ridge__normalize': 'deprecated', 'ridge__positive': False, 'ridge__random_state': None, 'ridge__solver': 'auto', 'ridge__tol': 0.001} \n",
       "Creation date: 2022-03-27 12:16:02 \n",
       "Last fit date: 2022-03-27 12:16:02 \n",
       "Skforecast version: 0.4.2 "
      ]
     },
     "execution_count": 94,
     "metadata": {},
     "output_type": "execute_result"
    }
   ],
   "source": [
    "# Create and train forecaster\n",
    "# ==============================================================================\n",
    "forecaster = ForecasterAutoreg(\n",
    "                regressor = make_pipeline(StandardScaler(), Ridge()),\n",
    "                lags      = 7\n",
    "             )\n",
    "\n",
    "forecaster.fit(y=data_train.loc[:, 'log_demand'], exog=data_train[['WEEKDAY', 'Avg_Temp', 'Avg_Sunlight', 'HEATERS_ON', 'HEATERS_ON*Avg_Temp']])\n",
    "forecaster"
   ]
  },
  {
   "cell_type": "code",
   "execution_count": 95,
   "id": "d400371e",
   "metadata": {},
   "outputs": [
    {
     "name": "stdout",
     "output_type": "stream",
     "text": [
      "Information of backtesting process\n",
      "----------------------------------\n",
      "Number of observations used for initial training or as initial window: 1500\n",
      "Number of observations used for backtesting: 33\n",
      "    Number of folds: 17\n",
      "    Number of steps per fold: 2\n",
      "    Last fold only includes 1 observations\n",
      "\n",
      "Data partition in fold: 0\n",
      "    Training:   2018-01-01 00:00:00 -- 2022-02-08 00:00:00\n",
      "    Validation: 2022-02-09 00:00:00 -- 2022-02-10 00:00:00\n",
      "Data partition in fold: 1\n",
      "    Training:   2018-01-01 00:00:00 -- 2022-02-08 00:00:00\n",
      "    Validation: 2022-02-11 00:00:00 -- 2022-02-12 00:00:00\n",
      "Data partition in fold: 2\n",
      "    Training:   2018-01-01 00:00:00 -- 2022-02-08 00:00:00\n",
      "    Validation: 2022-02-13 00:00:00 -- 2022-02-14 00:00:00\n",
      "Data partition in fold: 3\n",
      "    Training:   2018-01-01 00:00:00 -- 2022-02-08 00:00:00\n",
      "    Validation: 2022-02-15 00:00:00 -- 2022-02-16 00:00:00\n",
      "Data partition in fold: 4\n",
      "    Training:   2018-01-01 00:00:00 -- 2022-02-08 00:00:00\n",
      "    Validation: 2022-02-17 00:00:00 -- 2022-02-18 00:00:00\n",
      "Data partition in fold: 5\n",
      "    Training:   2018-01-01 00:00:00 -- 2022-02-08 00:00:00\n",
      "    Validation: 2022-02-19 00:00:00 -- 2022-02-20 00:00:00\n",
      "Data partition in fold: 6\n",
      "    Training:   2018-01-01 00:00:00 -- 2022-02-08 00:00:00\n",
      "    Validation: 2022-02-21 00:00:00 -- 2022-02-22 00:00:00\n",
      "Data partition in fold: 7\n",
      "    Training:   2018-01-01 00:00:00 -- 2022-02-08 00:00:00\n",
      "    Validation: 2022-02-23 00:00:00 -- 2022-02-24 00:00:00\n",
      "Data partition in fold: 8\n",
      "    Training:   2018-01-01 00:00:00 -- 2022-02-08 00:00:00\n",
      "    Validation: 2022-02-25 00:00:00 -- 2022-02-26 00:00:00\n",
      "Data partition in fold: 9\n",
      "    Training:   2018-01-01 00:00:00 -- 2022-02-08 00:00:00\n",
      "    Validation: 2022-02-27 00:00:00 -- 2022-02-28 00:00:00\n",
      "Data partition in fold: 10\n",
      "    Training:   2018-01-01 00:00:00 -- 2022-02-08 00:00:00\n",
      "    Validation: 2022-03-01 00:00:00 -- 2022-03-02 00:00:00\n",
      "Data partition in fold: 11\n",
      "    Training:   2018-01-01 00:00:00 -- 2022-02-08 00:00:00\n",
      "    Validation: 2022-03-03 00:00:00 -- 2022-03-04 00:00:00\n",
      "Data partition in fold: 12\n",
      "    Training:   2018-01-01 00:00:00 -- 2022-02-08 00:00:00\n",
      "    Validation: 2022-03-05 00:00:00 -- 2022-03-06 00:00:00\n",
      "Data partition in fold: 13\n",
      "    Training:   2018-01-01 00:00:00 -- 2022-02-08 00:00:00\n",
      "    Validation: 2022-03-07 00:00:00 -- 2022-03-08 00:00:00\n",
      "Data partition in fold: 14\n",
      "    Training:   2018-01-01 00:00:00 -- 2022-02-08 00:00:00\n",
      "    Validation: 2022-03-09 00:00:00 -- 2022-03-10 00:00:00\n",
      "Data partition in fold: 15\n",
      "    Training:   2018-01-01 00:00:00 -- 2022-02-08 00:00:00\n",
      "    Validation: 2022-03-11 00:00:00 -- 2022-03-12 00:00:00\n",
      "Data partition in fold: 16\n",
      "    Training:   2018-01-01 00:00:00 -- 2022-02-08 00:00:00\n",
      "    Validation: 2022-03-13 00:00:00 -- 2022-03-13 00:00:00\n",
      "\n"
     ]
    }
   ],
   "source": [
    "# Backtest with training data\n",
    "# ==============================================================================\n",
    "metric, predictions = backtesting_forecaster(\n",
    "                            forecaster = forecaster,\n",
    "                            y          = data_final.log_demand,\n",
    "                            initial_train_size = len(data_train),\n",
    "                            steps      = 2,\n",
    "                            metric     = 'mean_absolute_error',\n",
    "                            refit = False,\n",
    "                            verbose    = True\n",
    "                        )"
   ]
  },
  {
   "cell_type": "code",
   "execution_count": 96,
   "id": "b4807432",
   "metadata": {},
   "outputs": [
    {
     "data": {
      "text/plain": [
       "<matplotlib.legend.Legend at 0x161a3ca4be0>"
      ]
     },
     "execution_count": 96,
     "metadata": {},
     "output_type": "execute_result"
    },
    {
     "data": {
      "image/png": "[encoded data removed]",
      "text/plain": [
       "<Figure size 864x252 with 1 Axes>"
      ]
     },
     "metadata": {
      "needs_background": "light"
     },
     "output_type": "display_data"
    }
   ],
   "source": [
    "# Plot\n",
    "# ==============================================================================\n",
    "predictions['SETTLEMENT_DATE'] = data_test.index\n",
    "predictions = predictions.set_index('SETTLEMENT_DATE')\n",
    "fig, ax = plt.subplots(figsize=(12, 3.5))\n",
    "data_final.loc[predictions.index, 'log_demand'].plot(ax=ax, linewidth=2, label='real') # test data\n",
    "predictions.plot(linewidth=2, label='prediction', ax=ax)\n",
    "ax.set_title('Prediction vs Real Demand')\n",
    "ax.legend()"
   ]
  },
  {
   "cell_type": "markdown",
   "id": "e1702106",
   "metadata": {},
   "source": [
    "# Hyperparameter Tuning"
   ]
  },
  {
   "cell_type": "code",
   "execution_count": 97,
   "id": "93fb7dc5",
   "metadata": {},
   "outputs": [
    {
     "name": "stdout",
     "output_type": "stream",
     "text": [
      "Number of models compared: 90\n"
     ]
    },
    {
     "name": "stderr",
     "output_type": "stream",
     "text": [
      "loop lags_grid:   0%|                                               | 0/9 [00:00<?, ?it/s]\n",
      "loop param_grid:   0%|                                             | 0/10 [00:00<?, ?it/s]\u001b[A\n",
      "loop param_grid:  20%|███████▍                             | 2/10 [00:00<00:00, 18.03it/s]\u001b[A\n",
      "loop param_grid:  50%|██████████████████▌                  | 5/10 [00:00<00:00, 23.40it/s]\u001b[A\n",
      "loop param_grid:  80%|█████████████████████████████▌       | 8/10 [00:00<00:00, 22.28it/s]\u001b[A\n",
      "loop lags_grid:  11%|████▎                                  | 1/9 [00:00<00:03,  2.16it/s]\u001b[A\n",
      "loop param_grid:   0%|                                             | 0/10 [00:00<?, ?it/s]\u001b[A\n",
      "loop param_grid:  30%|███████████                          | 3/10 [00:00<00:00, 22.64it/s]\u001b[A\n",
      "loop param_grid:  60%|██████████████████████▏              | 6/10 [00:00<00:00, 23.26it/s]\u001b[A\n",
      "loop param_grid:  90%|█████████████████████████████████▎   | 9/10 [00:00<00:00, 23.08it/s]\u001b[A\n",
      "loop lags_grid:  22%|████████▋                              | 2/9 [00:00<00:03,  2.18it/s]\u001b[A\n",
      "loop param_grid:   0%|                                             | 0/10 [00:00<?, ?it/s]\u001b[A\n",
      "loop param_grid:  30%|███████████                          | 3/10 [00:00<00:00, 25.57it/s]\u001b[A\n",
      "loop param_grid:  60%|██████████████████████▏              | 6/10 [00:00<00:00, 23.62it/s]\u001b[A\n",
      "loop param_grid:  90%|█████████████████████████████████▎   | 9/10 [00:00<00:00, 20.92it/s]\u001b[A\n",
      "loop lags_grid:  33%|█████████████                          | 3/9 [00:01<00:02,  2.14it/s]\u001b[A\n",
      "loop param_grid:   0%|                                             | 0/10 [00:00<?, ?it/s]\u001b[A\n",
      "loop param_grid:  20%|███████▍                             | 2/10 [00:00<00:00, 18.51it/s]\u001b[A\n",
      "loop param_grid:  50%|██████████████████▌                  | 5/10 [00:00<00:00, 21.15it/s]\u001b[A\n",
      "loop param_grid:  80%|█████████████████████████████▌       | 8/10 [00:00<00:00, 21.30it/s]\u001b[A\n",
      "loop lags_grid:  44%|█████████████████▎                     | 4/9 [00:01<00:02,  2.11it/s]\u001b[A\n",
      "loop param_grid:   0%|                                             | 0/10 [00:00<?, ?it/s]\u001b[A\n",
      "loop param_grid:  20%|███████▍                             | 2/10 [00:00<00:00, 16.84it/s]\u001b[A\n",
      "loop param_grid:  40%|██████████████▊                      | 4/10 [00:00<00:00, 18.13it/s]\u001b[A\n",
      "loop param_grid:  70%|█████████████████████████▉           | 7/10 [00:00<00:00, 20.38it/s]\u001b[A\n",
      "loop param_grid: 100%|████████████████████████████████████| 10/10 [00:00<00:00, 22.25it/s]\u001b[A\n",
      "loop lags_grid:  56%|█████████████████████▋                 | 5/9 [00:02<00:01,  2.08it/s]\u001b[A\n",
      "loop param_grid:   0%|                                             | 0/10 [00:00<?, ?it/s]\u001b[A\n",
      "loop param_grid:  30%|███████████                          | 3/10 [00:00<00:00, 20.08it/s]\u001b[A\n",
      "loop param_grid:  60%|██████████████████████▏              | 6/10 [00:00<00:00, 19.60it/s]\u001b[A\n",
      "loop param_grid:  90%|█████████████████████████████████▎   | 9/10 [00:00<00:00, 20.48it/s]\u001b[A\n",
      "loop lags_grid:  67%|██████████████████████████             | 6/9 [00:02<00:01,  2.05it/s]\u001b[A\n",
      "loop param_grid:   0%|                                             | 0/10 [00:00<?, ?it/s]\u001b[A\n",
      "loop param_grid:  20%|███████▍                             | 2/10 [00:00<00:00, 18.54it/s]\u001b[A\n",
      "loop param_grid:  40%|██████████████▊                      | 4/10 [00:00<00:00, 17.59it/s]\u001b[A\n",
      "loop param_grid:  60%|██████████████████████▏              | 6/10 [00:00<00:00, 17.27it/s]\u001b[A\n",
      "loop param_grid:  80%|█████████████████████████████▌       | 8/10 [00:00<00:00, 18.05it/s]\u001b[A\n",
      "loop param_grid: 100%|████████████████████████████████████| 10/10 [00:00<00:00, 17.14it/s]\u001b[A\n",
      "loop lags_grid:  78%|██████████████████████████████▎        | 7/9 [00:03<00:01,  1.93it/s]\u001b[A\n",
      "loop param_grid:   0%|                                             | 0/10 [00:00<?, ?it/s]\u001b[A\n",
      "loop param_grid:  20%|███████▍                             | 2/10 [00:00<00:00, 17.81it/s]\u001b[A\n",
      "loop param_grid:  40%|██████████████▊                      | 4/10 [00:00<00:00, 18.89it/s]\u001b[A\n",
      "loop param_grid:  60%|██████████████████████▏              | 6/10 [00:00<00:00, 17.10it/s]\u001b[A\n",
      "loop param_grid:  80%|█████████████████████████████▌       | 8/10 [00:00<00:00, 16.86it/s]\u001b[A\n",
      "loop param_grid: 100%|████████████████████████████████████| 10/10 [00:00<00:00, 16.88it/s]\u001b[A\n",
      "loop lags_grid:  89%|██████████████████████████████████▋    | 8/9 [00:04<00:00,  1.85it/s]\u001b[A\n",
      "loop param_grid:   0%|                                             | 0/10 [00:00<?, ?it/s]\u001b[A\n",
      "loop param_grid:  20%|███████▍                             | 2/10 [00:00<00:00, 18.31it/s]\u001b[A\n",
      "loop param_grid:  40%|██████████████▊                      | 4/10 [00:00<00:00, 16.02it/s]\u001b[A\n",
      "loop param_grid:  60%|██████████████████████▏              | 6/10 [00:00<00:00, 16.27it/s]\u001b[A\n",
      "loop param_grid:  80%|█████████████████████████████▌       | 8/10 [00:00<00:00, 16.43it/s]\u001b[A\n",
      "loop param_grid: 100%|████████████████████████████████████| 10/10 [00:00<00:00, 17.04it/s]\u001b[A\n",
      "loop lags_grid: 100%|███████████████████████████████████████| 9/9 [00:04<00:00,  1.93it/s]\u001b[A"
     ]
    },
    {
     "name": "stdout",
     "output_type": "stream",
     "text": [
      "`Forecaster` refitted using the best-found lags and parameters, and the whole data set: \n",
      "  Lags: [  1   2   3   4   5   6   7   8   9  10  11  12  13  14  15  16  17  18\n",
      "  19  20  21  22  23  24  25  26  27  28  29  30  31  32  33  34  35  36\n",
      "  37  38  39  40  41  42  43  44  45  46  47  48  49  50  51  52  53  54\n",
      "  55  56  57  58  59  60  61  62  63  64  65  66  67  68  69  70  71  72\n",
      "  73  74  75  76  77  78  79  80  81  82  83  84  85  86  87  88  89  90\n",
      "  91  92  93  94  95  96  97  98  99 100 101 102 103 104 105 106 107 108\n",
      " 109 110 111 112 113 114 115 116 117 118 119 120 121 122 123 124 125 126\n",
      " 127 128 129 130 131 132 133 134 135 136 137 138 139 140 141 142 143 144\n",
      " 145 146 147 148 149 150] \n",
      "  Parameters: {'ridge__alpha': 0.001}\n",
      "  Backtesting metric: 0.02536303100227381\n",
      "\n"
     ]
    },
    {
     "name": "stderr",
     "output_type": "stream",
     "text": [
      "\n"
     ]
    }
   ],
   "source": [
    "# Hyperparameter Grid search\n",
    "# ==============================================================================\n",
    "forecaster = ForecasterAutoreg(\n",
    "                    regressor = make_pipeline(StandardScaler(), Ridge()),\n",
    "                    lags      = 7 # This value will be replaced in the grid search\n",
    "              )\n",
    "\n",
    "# Regressor's hyperparameters\n",
    "param_grid = {'ridge__alpha': np.logspace(-3, 5, 10)}\n",
    "\n",
    "# Lags used as predictors\n",
    "lags_grid = [7, 15, 30, 63, 80, 100, 150, 170, 200]\n",
    "\n",
    "results_grid = grid_search_forecaster(\n",
    "                        forecaster  = forecaster,\n",
    "                        y           = data_final.log_demand,\n",
    "                        param_grid  = param_grid,\n",
    "                        lags_grid   = lags_grid,\n",
    "                        steps       = 2,\n",
    "                        metric      = 'mean_absolute_error',\n",
    "                        refit       = False,\n",
    "                        initial_train_size = len(data_train),\n",
    "                        return_best = True,\n",
    "                        verbose     = False\n",
    "                  )"
   ]
  },
  {
   "cell_type": "code",
   "execution_count": 98,
   "id": "b3f3af93",
   "metadata": {},
   "outputs": [
    {
     "data": {
      "text/plain": [
       "================= \n",
       "ForecasterAutoreg \n",
       "================= \n",
       "Regressor: Pipeline(steps=[('standardscaler', StandardScaler()),\n",
       "                ('ridge', Ridge(alpha=0.001))]) \n",
       "Lags: [  1   2   3   4   5   6   7   8   9  10  11  12  13  14  15  16  17  18\n",
       "  19  20  21  22  23  24  25  26  27  28  29  30  31  32  33  34  35  36\n",
       "  37  38  39  40  41  42  43  44  45  46  47  48  49  50  51  52  53  54\n",
       "  55  56  57  58  59  60  61  62  63  64  65  66  67  68  69  70  71  72\n",
       "  73  74  75  76  77  78  79  80  81  82  83  84  85  86  87  88  89  90\n",
       "  91  92  93  94  95  96  97  98  99 100 101 102 103 104 105 106 107 108\n",
       " 109 110 111 112 113 114 115 116 117 118 119 120 121 122 123 124 125 126\n",
       " 127 128 129 130 131 132 133 134 135 136 137 138 139 140 141 142 143 144\n",
       " 145 146 147 148 149 150] \n",
       "Window size: 150 \n",
       "Included exogenous: True \n",
       "Type of exogenous variable: <class 'pandas.core.frame.DataFrame'> \n",
       "Exogenous variables names: ['WEEKDAY', 'Avg_Temp', 'Avg_Sunlight', 'HEATERS_ON', 'HEATERS_ON*Avg_Temp'] \n",
       "Training range: [0, 1499] \n",
       "Training index type: RangeIndex \n",
       "Training index frequency: 1 \n",
       "Regressor parameters: {'standardscaler__copy': True, 'standardscaler__with_mean': True, 'standardscaler__with_std': True, 'ridge__alpha': 0.001, 'ridge__copy_X': True, 'ridge__fit_intercept': True, 'ridge__max_iter': None, 'ridge__normalize': 'deprecated', 'ridge__positive': False, 'ridge__random_state': None, 'ridge__solver': 'auto', 'ridge__tol': 0.001} \n",
       "Creation date: 2022-03-27 12:16:03 \n",
       "Last fit date: 2022-03-27 12:16:07 \n",
       "Skforecast version: 0.4.2 "
      ]
     },
     "execution_count": 98,
     "metadata": {},
     "output_type": "execute_result"
    }
   ],
   "source": [
    "# forecaster is automatically trained according to the best found hyperparameters\n",
    "# fit to to exogenous \n",
    "forecaster.fit(y=data_train.loc[:, 'log_demand'], exog=data_train[['WEEKDAY', 'Avg_Temp', 'Avg_Sunlight', 'HEATERS_ON', 'HEATERS_ON*Avg_Temp']])\n",
    "forecaster"
   ]
  },
  {
   "cell_type": "code",
   "execution_count": 99,
   "id": "905a9073",
   "metadata": {},
   "outputs": [
    {
     "name": "stdout",
     "output_type": "stream",
     "text": [
      "Information of backtesting process\n",
      "----------------------------------\n",
      "Number of observations used for initial training or as initial window: 1500\n",
      "Number of observations used for backtesting: 33\n",
      "    Number of folds: 17\n",
      "    Number of steps per fold: 2\n",
      "    Last fold only includes 1 observations\n",
      "\n",
      "Data partition in fold: 0\n",
      "    Training:   2018-01-01 00:00:00 -- 2022-02-08 00:00:00\n",
      "    Validation: 2022-02-09 00:00:00 -- 2022-02-10 00:00:00\n",
      "Data partition in fold: 1\n",
      "    Training:   2018-01-01 00:00:00 -- 2022-02-08 00:00:00\n",
      "    Validation: 2022-02-11 00:00:00 -- 2022-02-12 00:00:00\n",
      "Data partition in fold: 2\n",
      "    Training:   2018-01-01 00:00:00 -- 2022-02-08 00:00:00\n",
      "    Validation: 2022-02-13 00:00:00 -- 2022-02-14 00:00:00\n",
      "Data partition in fold: 3\n",
      "    Training:   2018-01-01 00:00:00 -- 2022-02-08 00:00:00\n",
      "    Validation: 2022-02-15 00:00:00 -- 2022-02-16 00:00:00\n",
      "Data partition in fold: 4\n",
      "    Training:   2018-01-01 00:00:00 -- 2022-02-08 00:00:00\n",
      "    Validation: 2022-02-17 00:00:00 -- 2022-02-18 00:00:00\n",
      "Data partition in fold: 5\n",
      "    Training:   2018-01-01 00:00:00 -- 2022-02-08 00:00:00\n",
      "    Validation: 2022-02-19 00:00:00 -- 2022-02-20 00:00:00\n",
      "Data partition in fold: 6\n",
      "    Training:   2018-01-01 00:00:00 -- 2022-02-08 00:00:00\n",
      "    Validation: 2022-02-21 00:00:00 -- 2022-02-22 00:00:00\n",
      "Data partition in fold: 7\n",
      "    Training:   2018-01-01 00:00:00 -- 2022-02-08 00:00:00\n",
      "    Validation: 2022-02-23 00:00:00 -- 2022-02-24 00:00:00\n",
      "Data partition in fold: 8\n",
      "    Training:   2018-01-01 00:00:00 -- 2022-02-08 00:00:00\n",
      "    Validation: 2022-02-25 00:00:00 -- 2022-02-26 00:00:00\n",
      "Data partition in fold: 9\n",
      "    Training:   2018-01-01 00:00:00 -- 2022-02-08 00:00:00\n",
      "    Validation: 2022-02-27 00:00:00 -- 2022-02-28 00:00:00\n",
      "Data partition in fold: 10\n",
      "    Training:   2018-01-01 00:00:00 -- 2022-02-08 00:00:00\n",
      "    Validation: 2022-03-01 00:00:00 -- 2022-03-02 00:00:00\n",
      "Data partition in fold: 11\n",
      "    Training:   2018-01-01 00:00:00 -- 2022-02-08 00:00:00\n",
      "    Validation: 2022-03-03 00:00:00 -- 2022-03-04 00:00:00\n",
      "Data partition in fold: 12\n",
      "    Training:   2018-01-01 00:00:00 -- 2022-02-08 00:00:00\n",
      "    Validation: 2022-03-05 00:00:00 -- 2022-03-06 00:00:00\n",
      "Data partition in fold: 13\n",
      "    Training:   2018-01-01 00:00:00 -- 2022-02-08 00:00:00\n",
      "    Validation: 2022-03-07 00:00:00 -- 2022-03-08 00:00:00\n",
      "Data partition in fold: 14\n",
      "    Training:   2018-01-01 00:00:00 -- 2022-02-08 00:00:00\n",
      "    Validation: 2022-03-09 00:00:00 -- 2022-03-10 00:00:00\n",
      "Data partition in fold: 15\n",
      "    Training:   2018-01-01 00:00:00 -- 2022-02-08 00:00:00\n",
      "    Validation: 2022-03-11 00:00:00 -- 2022-03-12 00:00:00\n",
      "Data partition in fold: 16\n",
      "    Training:   2018-01-01 00:00:00 -- 2022-02-08 00:00:00\n",
      "    Validation: 2022-03-13 00:00:00 -- 2022-03-13 00:00:00\n",
      "\n"
     ]
    }
   ],
   "source": [
    "# Backtest with training data\n",
    "# ==============================================================================\n",
    "metric, predictions = backtesting_forecaster(\n",
    "                            forecaster = forecaster,\n",
    "                            y          = data_final.log_demand,\n",
    "                            initial_train_size = len(data_train),\n",
    "                            steps      = 2,\n",
    "                            metric     = 'mean_absolute_error',\n",
    "                            interval            = [5, 95],\n",
    "                            n_boot              = 500,\n",
    "                            in_sample_residuals = True,\n",
    "                            refit = False,\n",
    "                            verbose    = True\n",
    "                        )"
   ]
  },
  {
   "cell_type": "code",
   "execution_count": 100,
   "id": "8bc3d48a",
   "metadata": {},
   "outputs": [
    {
     "name": "stdout",
     "output_type": "stream",
     "text": [
      "Backtest error: [0.02536303]\n"
     ]
    },
    {
     "data": {
      "text/html": [
       "<div>\n",
       "<style scoped>\n",
       "    .dataframe tbody tr th:only-of-type {\n",
       "        vertical-align: middle;\n",
       "    }\n",
       "\n",
       "    .dataframe tbody tr th {\n",
       "        vertical-align: top;\n",
       "    }\n",
       "\n",
       "    .dataframe thead th {\n",
       "        text-align: right;\n",
       "    }\n",
       "</style>\n",
       "<table border=\"1\" class=\"dataframe\">\n",
       "  <thead>\n",
       "    <tr style=\"text-align: right;\">\n",
       "      <th></th>\n",
       "      <th>pred</th>\n",
       "      <th>lower_bound</th>\n",
       "      <th>upper_bound</th>\n",
       "    </tr>\n",
       "    <tr>\n",
       "      <th>SETTLEMENT_DATE</th>\n",
       "      <th></th>\n",
       "      <th></th>\n",
       "      <th></th>\n",
       "    </tr>\n",
       "  </thead>\n",
       "  <tbody>\n",
       "    <tr>\n",
       "      <th>2022-02-09</th>\n",
       "      <td>10.279683</td>\n",
       "      <td>10.213999</td>\n",
       "      <td>10.335789</td>\n",
       "    </tr>\n",
       "    <tr>\n",
       "      <th>2022-02-10</th>\n",
       "      <td>10.294014</td>\n",
       "      <td>10.216838</td>\n",
       "      <td>10.368587</td>\n",
       "    </tr>\n",
       "    <tr>\n",
       "      <th>2022-02-11</th>\n",
       "      <td>10.277084</td>\n",
       "      <td>10.211399</td>\n",
       "      <td>10.333189</td>\n",
       "    </tr>\n",
       "    <tr>\n",
       "      <th>2022-02-12</th>\n",
       "      <td>10.192317</td>\n",
       "      <td>10.115141</td>\n",
       "      <td>10.266889</td>\n",
       "    </tr>\n",
       "    <tr>\n",
       "      <th>2022-02-13</th>\n",
       "      <td>10.169573</td>\n",
       "      <td>10.103888</td>\n",
       "      <td>10.225678</td>\n",
       "    </tr>\n",
       "    <tr>\n",
       "      <th>2022-02-14</th>\n",
       "      <td>10.293467</td>\n",
       "      <td>10.216291</td>\n",
       "      <td>10.368039</td>\n",
       "    </tr>\n",
       "    <tr>\n",
       "      <th>2022-02-15</th>\n",
       "      <td>10.310777</td>\n",
       "      <td>10.245092</td>\n",
       "      <td>10.366883</td>\n",
       "    </tr>\n",
       "    <tr>\n",
       "      <th>2022-02-16</th>\n",
       "      <td>10.313801</td>\n",
       "      <td>10.236625</td>\n",
       "      <td>10.388373</td>\n",
       "    </tr>\n",
       "    <tr>\n",
       "      <th>2022-02-17</th>\n",
       "      <td>10.243066</td>\n",
       "      <td>10.177381</td>\n",
       "      <td>10.299172</td>\n",
       "    </tr>\n",
       "    <tr>\n",
       "      <th>2022-02-18</th>\n",
       "      <td>10.256176</td>\n",
       "      <td>10.179000</td>\n",
       "      <td>10.330748</td>\n",
       "    </tr>\n",
       "    <tr>\n",
       "      <th>2022-02-19</th>\n",
       "      <td>10.170982</td>\n",
       "      <td>10.105297</td>\n",
       "      <td>10.227087</td>\n",
       "    </tr>\n",
       "    <tr>\n",
       "      <th>2022-02-20</th>\n",
       "      <td>10.155557</td>\n",
       "      <td>10.078381</td>\n",
       "      <td>10.230129</td>\n",
       "    </tr>\n",
       "    <tr>\n",
       "      <th>2022-02-21</th>\n",
       "      <td>10.273286</td>\n",
       "      <td>10.207601</td>\n",
       "      <td>10.329391</td>\n",
       "    </tr>\n",
       "    <tr>\n",
       "      <th>2022-02-22</th>\n",
       "      <td>10.259285</td>\n",
       "      <td>10.182109</td>\n",
       "      <td>10.333857</td>\n",
       "    </tr>\n",
       "    <tr>\n",
       "      <th>2022-02-23</th>\n",
       "      <td>10.241440</td>\n",
       "      <td>10.175755</td>\n",
       "      <td>10.297546</td>\n",
       "    </tr>\n",
       "    <tr>\n",
       "      <th>2022-02-24</th>\n",
       "      <td>10.235384</td>\n",
       "      <td>10.158208</td>\n",
       "      <td>10.309957</td>\n",
       "    </tr>\n",
       "    <tr>\n",
       "      <th>2022-02-25</th>\n",
       "      <td>10.260307</td>\n",
       "      <td>10.194622</td>\n",
       "      <td>10.316412</td>\n",
       "    </tr>\n",
       "    <tr>\n",
       "      <th>2022-02-26</th>\n",
       "      <td>10.167364</td>\n",
       "      <td>10.090189</td>\n",
       "      <td>10.241937</td>\n",
       "    </tr>\n",
       "    <tr>\n",
       "      <th>2022-02-27</th>\n",
       "      <td>10.105552</td>\n",
       "      <td>10.039867</td>\n",
       "      <td>10.161657</td>\n",
       "    </tr>\n",
       "    <tr>\n",
       "      <th>2022-02-28</th>\n",
       "      <td>10.257782</td>\n",
       "      <td>10.180607</td>\n",
       "      <td>10.332355</td>\n",
       "    </tr>\n",
       "    <tr>\n",
       "      <th>2022-03-01</th>\n",
       "      <td>10.286125</td>\n",
       "      <td>10.220441</td>\n",
       "      <td>10.342231</td>\n",
       "    </tr>\n",
       "    <tr>\n",
       "      <th>2022-03-02</th>\n",
       "      <td>10.265412</td>\n",
       "      <td>10.188236</td>\n",
       "      <td>10.339984</td>\n",
       "    </tr>\n",
       "    <tr>\n",
       "      <th>2022-03-03</th>\n",
       "      <td>10.309326</td>\n",
       "      <td>10.243641</td>\n",
       "      <td>10.365432</td>\n",
       "    </tr>\n",
       "    <tr>\n",
       "      <th>2022-03-04</th>\n",
       "      <td>10.308707</td>\n",
       "      <td>10.231531</td>\n",
       "      <td>10.383279</td>\n",
       "    </tr>\n",
       "    <tr>\n",
       "      <th>2022-03-05</th>\n",
       "      <td>10.197976</td>\n",
       "      <td>10.132291</td>\n",
       "      <td>10.254082</td>\n",
       "    </tr>\n",
       "    <tr>\n",
       "      <th>2022-03-06</th>\n",
       "      <td>10.163149</td>\n",
       "      <td>10.085973</td>\n",
       "      <td>10.237721</td>\n",
       "    </tr>\n",
       "    <tr>\n",
       "      <th>2022-03-07</th>\n",
       "      <td>10.301801</td>\n",
       "      <td>10.236117</td>\n",
       "      <td>10.357907</td>\n",
       "    </tr>\n",
       "    <tr>\n",
       "      <th>2022-03-08</th>\n",
       "      <td>10.318321</td>\n",
       "      <td>10.241145</td>\n",
       "      <td>10.392893</td>\n",
       "    </tr>\n",
       "    <tr>\n",
       "      <th>2022-03-09</th>\n",
       "      <td>10.260391</td>\n",
       "      <td>10.194706</td>\n",
       "      <td>10.316496</td>\n",
       "    </tr>\n",
       "    <tr>\n",
       "      <th>2022-03-10</th>\n",
       "      <td>10.263327</td>\n",
       "      <td>10.186152</td>\n",
       "      <td>10.337900</td>\n",
       "    </tr>\n",
       "    <tr>\n",
       "      <th>2022-03-11</th>\n",
       "      <td>10.209334</td>\n",
       "      <td>10.143649</td>\n",
       "      <td>10.265440</td>\n",
       "    </tr>\n",
       "    <tr>\n",
       "      <th>2022-03-12</th>\n",
       "      <td>10.129698</td>\n",
       "      <td>10.052522</td>\n",
       "      <td>10.204270</td>\n",
       "    </tr>\n",
       "    <tr>\n",
       "      <th>2022-03-13</th>\n",
       "      <td>10.078494</td>\n",
       "      <td>10.012809</td>\n",
       "      <td>10.134599</td>\n",
       "    </tr>\n",
       "  </tbody>\n",
       "</table>\n",
       "</div>"
      ],
      "text/plain": [
       "                      pred  lower_bound  upper_bound\n",
       "SETTLEMENT_DATE                                     \n",
       "2022-02-09       10.279683    10.213999    10.335789\n",
       "2022-02-10       10.294014    10.216838    10.368587\n",
       "2022-02-11       10.277084    10.211399    10.333189\n",
       "2022-02-12       10.192317    10.115141    10.266889\n",
       "2022-02-13       10.169573    10.103888    10.225678\n",
       "2022-02-14       10.293467    10.216291    10.368039\n",
       "2022-02-15       10.310777    10.245092    10.366883\n",
       "2022-02-16       10.313801    10.236625    10.388373\n",
       "2022-02-17       10.243066    10.177381    10.299172\n",
       "2022-02-18       10.256176    10.179000    10.330748\n",
       "2022-02-19       10.170982    10.105297    10.227087\n",
       "2022-02-20       10.155557    10.078381    10.230129\n",
       "2022-02-21       10.273286    10.207601    10.329391\n",
       "2022-02-22       10.259285    10.182109    10.333857\n",
       "2022-02-23       10.241440    10.175755    10.297546\n",
       "2022-02-24       10.235384    10.158208    10.309957\n",
       "2022-02-25       10.260307    10.194622    10.316412\n",
       "2022-02-26       10.167364    10.090189    10.241937\n",
       "2022-02-27       10.105552    10.039867    10.161657\n",
       "2022-02-28       10.257782    10.180607    10.332355\n",
       "2022-03-01       10.286125    10.220441    10.342231\n",
       "2022-03-02       10.265412    10.188236    10.339984\n",
       "2022-03-03       10.309326    10.243641    10.365432\n",
       "2022-03-04       10.308707    10.231531    10.383279\n",
       "2022-03-05       10.197976    10.132291    10.254082\n",
       "2022-03-06       10.163149    10.085973    10.237721\n",
       "2022-03-07       10.301801    10.236117    10.357907\n",
       "2022-03-08       10.318321    10.241145    10.392893\n",
       "2022-03-09       10.260391    10.194706    10.316496\n",
       "2022-03-10       10.263327    10.186152    10.337900\n",
       "2022-03-11       10.209334    10.143649    10.265440\n",
       "2022-03-12       10.129698    10.052522    10.204270\n",
       "2022-03-13       10.078494    10.012809    10.134599"
      ]
     },
     "execution_count": 100,
     "metadata": {},
     "output_type": "execute_result"
    }
   ],
   "source": [
    "# Error backtest\n",
    "# ==============================================================================\n",
    "print(f'Backtest error: {metric}')\n",
    "predictions['SETTLEMENT_DATE'] = data_test.index\n",
    "predictions = predictions.set_index('SETTLEMENT_DATE')\n",
    "predictions"
   ]
  },
  {
   "cell_type": "code",
   "execution_count": 101,
   "id": "762f05d4",
   "metadata": {},
   "outputs": [
    {
     "data": {
      "text/html": [
       "<div>\n",
       "<style scoped>\n",
       "    .dataframe tbody tr th:only-of-type {\n",
       "        vertical-align: middle;\n",
       "    }\n",
       "\n",
       "    .dataframe tbody tr th {\n",
       "        vertical-align: top;\n",
       "    }\n",
       "\n",
       "    .dataframe thead th {\n",
       "        text-align: right;\n",
       "    }\n",
       "</style>\n",
       "<table border=\"1\" class=\"dataframe\">\n",
       "  <thead>\n",
       "    <tr style=\"text-align: right;\">\n",
       "      <th></th>\n",
       "      <th>feature</th>\n",
       "      <th>coef</th>\n",
       "    </tr>\n",
       "  </thead>\n",
       "  <tbody>\n",
       "    <tr>\n",
       "      <th>0</th>\n",
       "      <td>lag_1</td>\n",
       "      <td>0.096012</td>\n",
       "    </tr>\n",
       "    <tr>\n",
       "      <th>1</th>\n",
       "      <td>lag_2</td>\n",
       "      <td>0.004392</td>\n",
       "    </tr>\n",
       "    <tr>\n",
       "      <th>2</th>\n",
       "      <td>lag_3</td>\n",
       "      <td>0.010140</td>\n",
       "    </tr>\n",
       "    <tr>\n",
       "      <th>3</th>\n",
       "      <td>lag_4</td>\n",
       "      <td>-0.000201</td>\n",
       "    </tr>\n",
       "    <tr>\n",
       "      <th>4</th>\n",
       "      <td>lag_5</td>\n",
       "      <td>0.000791</td>\n",
       "    </tr>\n",
       "    <tr>\n",
       "      <th>...</th>\n",
       "      <td>...</td>\n",
       "      <td>...</td>\n",
       "    </tr>\n",
       "    <tr>\n",
       "      <th>150</th>\n",
       "      <td>WEEKDAY</td>\n",
       "      <td>0.046228</td>\n",
       "    </tr>\n",
       "    <tr>\n",
       "      <th>151</th>\n",
       "      <td>Avg_Temp</td>\n",
       "      <td>-0.000064</td>\n",
       "    </tr>\n",
       "    <tr>\n",
       "      <th>152</th>\n",
       "      <td>Avg_Sunlight</td>\n",
       "      <td>-0.013601</td>\n",
       "    </tr>\n",
       "    <tr>\n",
       "      <th>153</th>\n",
       "      <td>HEATERS_ON</td>\n",
       "      <td>0.035061</td>\n",
       "    </tr>\n",
       "    <tr>\n",
       "      <th>154</th>\n",
       "      <td>HEATERS_ON*Avg_Temp</td>\n",
       "      <td>-0.025103</td>\n",
       "    </tr>\n",
       "  </tbody>\n",
       "</table>\n",
       "<p>155 rows × 2 columns</p>\n",
       "</div>"
      ],
      "text/plain": [
       "                 feature      coef\n",
       "0                  lag_1  0.096012\n",
       "1                  lag_2  0.004392\n",
       "2                  lag_3  0.010140\n",
       "3                  lag_4 -0.000201\n",
       "4                  lag_5  0.000791\n",
       "..                   ...       ...\n",
       "150              WEEKDAY  0.046228\n",
       "151             Avg_Temp -0.000064\n",
       "152         Avg_Sunlight -0.013601\n",
       "153           HEATERS_ON  0.035061\n",
       "154  HEATERS_ON*Avg_Temp -0.025103\n",
       "\n",
       "[155 rows x 2 columns]"
      ]
     },
     "execution_count": 101,
     "metadata": {},
     "output_type": "execute_result"
    }
   ],
   "source": [
    "# Coefficients\n",
    "df = forecaster.get_coef()\n",
    "df"
   ]
  },
  {
   "cell_type": "code",
   "execution_count": 102,
   "id": "addd8562",
   "metadata": {},
   "outputs": [
    {
     "data": {
      "image/png": "[encoded data removed]",
      "text/plain": [
       "<Figure size 1440x288 with 1 Axes>"
      ]
     },
     "metadata": {
      "needs_background": "light"
     },
     "output_type": "display_data"
    }
   ],
   "source": [
    "# Plot\n",
    "# ==============================================================================\n",
    "fig, ax = plt.subplots(figsize=(20, 4))\n",
    "data_test['log_demand'].plot(linewidth=2, label='real', ax=ax)\n",
    "predictions.iloc[:, 0].plot(linewidth=2, label='prediction', ax=ax)\n",
    "ax.set_title('Prediction vs Real Demand')\n",
    "ax.legend();"
   ]
  },
  {
   "cell_type": "code",
   "execution_count": 103,
   "id": "9dba08ee",
   "metadata": {},
   "outputs": [
    {
     "data": {
      "image/png": "[encoded data removed]",
      "text/plain": [
       "<Figure size 864x216 with 1 Axes>"
      ]
     },
     "metadata": {
      "needs_background": "light"
     },
     "output_type": "display_data"
    }
   ],
   "source": [
    "# Plot with interval\n",
    "# ==============================================================================\n",
    "fig, ax = plt.subplots(figsize=(12, 3))\n",
    "data_test['log_demand'].plot(linewidth=2, label='test data', color='red', ax=ax)\n",
    "predictions.iloc[:, 0].plot(linewidth=2, label='prediction', ax=ax)\n",
    "ax.set_title('Prediction vs Real Demand March 15 (Best Round)')\n",
    "plt.xlabel('Date')\n",
    "plt.ylabel('log load')\n",
    "ax.fill_between(\n",
    "    predictions.index,\n",
    "    predictions.iloc[:, 1],\n",
    "    predictions.iloc[:, 2],\n",
    "    alpha = 0.3,\n",
    "    color = 'green',\n",
    "    label = 'prediction interval' \n",
    ")\n",
    "ax.legend();"
   ]
  },
  {
   "cell_type": "code",
   "execution_count": 104,
   "id": "ed5fb342",
   "metadata": {},
   "outputs": [
    {
     "name": "stdout",
     "output_type": "stream",
     "text": [
      "Predicted interval coverage: 96.96969696969697\n"
     ]
    }
   ],
   "source": [
    "# Predicted interval coverage\n",
    "# ==============================================================================\n",
    "inside_interval = np.where(\n",
    "                     (data_test['log_demand'] >= predictions[\"lower_bound\"]) & \\\n",
    "                     (data_test['log_demand'] <= predictions[\"upper_bound\"]),\n",
    "                     True,\n",
    "                     False\n",
    "                   )\n",
    "\n",
    "coverage = inside_interval.mean()\n",
    "print(f\"Predicted interval coverage: {100 * coverage}\")"
   ]
  },
  {
   "cell_type": "code",
   "execution_count": null,
   "id": "9ed5dcc9",
   "metadata": {},
   "outputs": [],
   "source": []
  },
  {
   "cell_type": "markdown",
   "id": "2ac2c07d",
   "metadata": {},
   "source": [
    "# Predicting the Future Values"
   ]
  },
  {
   "cell_type": "code",
   "execution_count": 105,
   "id": "90b21119",
   "metadata": {},
   "outputs": [
    {
     "data": {
      "text/html": [
       "<div>\n",
       "<style scoped>\n",
       "    .dataframe tbody tr th:only-of-type {\n",
       "        vertical-align: middle;\n",
       "    }\n",
       "\n",
       "    .dataframe tbody tr th {\n",
       "        vertical-align: top;\n",
       "    }\n",
       "\n",
       "    .dataframe thead th {\n",
       "        text-align: right;\n",
       "    }\n",
       "</style>\n",
       "<table border=\"1\" class=\"dataframe\">\n",
       "  <thead>\n",
       "    <tr style=\"text-align: right;\">\n",
       "      <th></th>\n",
       "      <th>pred</th>\n",
       "      <th>lower_bound</th>\n",
       "      <th>upper_bound</th>\n",
       "    </tr>\n",
       "    <tr>\n",
       "      <th>Date</th>\n",
       "      <th></th>\n",
       "      <th></th>\n",
       "      <th></th>\n",
       "    </tr>\n",
       "  </thead>\n",
       "  <tbody>\n",
       "    <tr>\n",
       "      <th>2022-03-14</th>\n",
       "      <td>10.216304</td>\n",
       "      <td>10.156078</td>\n",
       "      <td>10.264336</td>\n",
       "    </tr>\n",
       "    <tr>\n",
       "      <th>2022-03-15</th>\n",
       "      <td>10.256467</td>\n",
       "      <td>10.190298</td>\n",
       "      <td>10.317331</td>\n",
       "    </tr>\n",
       "  </tbody>\n",
       "</table>\n",
       "</div>"
      ],
      "text/plain": [
       "                 pred  lower_bound  upper_bound\n",
       "Date                                           \n",
       "2022-03-14  10.216304    10.156078    10.264336\n",
       "2022-03-15  10.256467    10.190298    10.317331"
      ]
     },
     "execution_count": 105,
     "metadata": {},
     "output_type": "execute_result"
    }
   ],
   "source": [
    "forecaster.fit(y=data_final.loc[:, 'log_demand'], exog=data_final[['WEEKDAY', 'Avg_Temp', 'Avg_Sunlight', 'HEATERS_ON', 'HEATERS_ON*Avg_Temp']])\n",
    "\n",
    "predictions_future = forecaster.predict_interval(\n",
    "                    steps    = 2,\n",
    "                    exog=exogenous_predict[['WEEKDAY', 'Avg_Temp', 'Avg_Sunlight', 'HEATERS_ON', 'HEATERS_ON*Avg_Temp']],\n",
    "                    interval = [5, 95],\n",
    "                    n_boot   = 500\n",
    "              )\n",
    "\n",
    "predictions_future = predictions_future.set_index(exogenous_predict['Date'])\n",
    "predictions_future"
   ]
  },
  {
   "cell_type": "code",
   "execution_count": 106,
   "id": "8353607f",
   "metadata": {},
   "outputs": [
    {
     "data": {
      "text/plain": [
       "0.0310527679939699"
      ]
     },
     "execution_count": 106,
     "metadata": {},
     "output_type": "execute_result"
    }
   ],
   "source": [
    "# Standard deviation = (Upper bound - Prediction)/1.96 for a 95% prediction interval\n",
    "sd = (predictions_future.iloc[1,2]- predictions_future.iloc[1,0])/1.96\n",
    "sd"
   ]
  }
 ],
 "metadata": {
  "kernelspec": {
   "display_name": "Python 3 (ipykernel)",
   "language": "python",
   "name": "python3"
  },
  "language_info": {
   "codemirror_mode": {
    "name": "ipython",
    "version": 3
   },
   "file_extension": ".py",
   "mimetype": "text/x-python",
   "name": "python",
   "nbconvert_exporter": "python",
   "pygments_lexer": "ipython3",
   "version": "3.9.7"
  }
 },
 "nbformat": 4,
 "nbformat_minor": 5
}
